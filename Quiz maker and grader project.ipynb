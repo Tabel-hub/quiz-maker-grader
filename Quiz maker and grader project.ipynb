{
 "cells": [
  {
   "cell_type": "code",
   "execution_count": 1,
   "id": "eacd017d-783a-462d-9902-13ab077061a8",
   "metadata": {},
   "outputs": [
    {
     "name": "stdout",
     "output_type": "stream",
     "text": [
      "Welcome to the Python Quiz Maker & Grader!\n"
     ]
    },
    {
     "name": "stdin",
     "output_type": "stream",
     "text": [
      "Are you a Student or Admin?  admin\n",
      "Enter the question:  what is the output of print(3 == 3.0)\n",
      "Enter option A:  false\n",
      "Enter option B:  true\n",
      "Enter option C:  error\n",
      "Enter option D:  none\n",
      "Enter the correct answer (A/B/C/D):  B\n"
     ]
    },
    {
     "name": "stdout",
     "output_type": "stream",
     "text": [
      "Question added successfully!\n",
      "\n"
     ]
    }
   ],
   "source": [
    "# Quiz Maker & Grader - Final Project\n",
    "\n",
    "# Step 1: Define the quiz questions dictionary\n",
    "questions = {\n",
    "    \"What does the len() function do in Python?\": {\n",
    "        \"options\": [\"A. Returns the number of items in an object\", \"B. Adds two values\", \"C. Outputs text\", \"D. Checks data type\"],\n",
    "        \"answer\": \"A\"\n",
    "    },\n",
    "    \"Which of the following is a correct variable name in Python?\": {\n",
    "        \"options\": [\"A. 2ndValue\", \"B. my-variable\", \"C. myVariable\", \"D. class\"],\n",
    "        \"answer\": \"C\"\n",
    "    },\n",
    "    \"What keyword is used to define a function in Python?\": {\n",
    "        \"options\": [\"A. def\", \"B. function\", \"C. func\", \"D. define\"],\n",
    "        \"answer\": \"A\"\n",
    "    },\n",
    "    \"What is the output of 3 * 'Hi '?\": {\n",
    "        \"options\": [\"A. 'HiHiHi'\", \"B. 'Hi Hi Hi '\", \"C. Error\", \"D. 'Hi 3'\"],\n",
    "        \"answer\": \"B\"\n",
    "    },\n",
    "    \"Which of these data types is immutable in Python?\": {\n",
    "        \"options\": [\"A. list\", \"B. dict\", \"C. set\", \"D. tuple\"],\n",
    "        \"answer\": \"D\"\n",
    "    },\n",
    "    \"What is the result of 10 // 3 in Python?\": {\n",
    "        \"options\": [\"A. 3.33\", \"B. 3\", \"C. 4\", \"D. Error\"],\n",
    "        \"answer\": \"B\"\n",
    "    },\n",
    "    \"Which statement is used to handle exceptions in Python?\": {\n",
    "        \"options\": [\"A. try/except\", \"B. throw/catch\", \"C. handle/catch\", \"D. do/except\"],\n",
    "        \"answer\": \"A\"\n",
    "    },\n",
    "    \"How do you start a comment in Python?\": {\n",
    "        \"options\": [\"A. //\", \"B. /*\", \"C. #\", \"D. <!--\"],\n",
    "        \"answer\": \"C\"\n",
    "    },\n",
    "    \"What is the correct file extension for Python files?\": {\n",
    "        \"options\": [\"A. .pyt\", \"B. .pt\", \"C. .py\", \"D. .p\"],\n",
    "        \"answer\": \"C\"\n",
    "    },\n",
    "    \"Which of the following is used to iterate over a sequence?\": {\n",
    "        \"options\": [\"A. for\", \"B. iterate\", \"C. while\", \"D. loop\"],\n",
    "        \"answer\": \"A\"\n",
    "    }\n",
    "}\n",
    "\n",
    "# Step 2: Function to allow admin to add questions\n",
    "def add_question():\n",
    "    question = input(\"Enter the question: \")\n",
    "    options = []\n",
    "    for option in ['A', 'B', 'C', 'D']:\n",
    "        options.append(input(f\"Enter option {option}: \"))\n",
    "    answer = input(\"Enter the correct answer (A/B/C/D): \").upper()\n",
    "    questions[question] = {\"options\": [f\"{opt}. {val}\" for opt, val in zip(['A', 'B', 'C', 'D'], options)], \"answer\": answer}\n",
    "    print(\"Question added successfully!\\n\")\n",
    "\n",
    "# Step 3: Quiz function to administer the quiz and grade answers\n",
    "def run_quiz():\n",
    "    score = 0\n",
    "    for question, data in questions.items():\n",
    "        print(\"\\n\" + question)\n",
    "        for opt in data['options']:\n",
    "            print(opt)\n",
    "        answer = input(\"Your answer (A/B/C/D): \").upper()\n",
    "        if answer == data['answer']:\n",
    "            print(\"Correct!\")\n",
    "            score += 1\n",
    "        else:\n",
    "            print(f\"Incorrect! The correct answer was {data['answer']}\")\n",
    "    print(f\"\\nYour final score is: {score} out of {len(questions)}\")\n",
    "    return score\n",
    "\n",
    "# Step 4: Save the result to a text file\n",
    "def save_score(name, score):\n",
    "    with open(\"quiz_scores.txt\", \"a\") as file:\n",
    "        file.write(f\"{name}: {score}/{len(questions)}\\n\")\n",
    "    print(\"Score saved successfully!\\n\")\n",
    "\n",
    "# Step 5: Main program logic\n",
    "def main():\n",
    "    print(\"Welcome to the Python Quiz Maker & Grader!\")\n",
    "    role = input(\"Are you a Student or Admin? \").strip().lower()\n",
    "    if role == \"admin\":\n",
    "        add_question()\n",
    "    elif role == \"student\":\n",
    "        name = input(\"Enter your name: \")\n",
    "        score = run_quiz()\n",
    "        save = input(\"Do you want to save your score? (yes/no): \").strip().lower()\n",
    "        if save == 'yes':\n",
    "            save_score(name, score)\n",
    "    else:\n",
    "        print(\"Invalid role. Please enter 'Student' or 'Admin'.\")\n",
    "\n",
    "# Run the program\n",
    "main()\n"
   ]
  }
 ],
 "metadata": {
  "kernelspec": {
   "display_name": "Python 3 (ipykernel)",
   "language": "python",
   "name": "python3"
  },
  "language_info": {
   "codemirror_mode": {
    "name": "ipython",
    "version": 3
   },
   "file_extension": ".py",
   "mimetype": "text/x-python",
   "name": "python",
   "nbconvert_exporter": "python",
   "pygments_lexer": "ipython3",
   "version": "3.13.3"
  }
 },
 "nbformat": 4,
 "nbformat_minor": 5
}
